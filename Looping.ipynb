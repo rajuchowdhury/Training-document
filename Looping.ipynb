{
 "cells": [
  {
   "cell_type": "code",
   "execution_count": 1,
   "metadata": {
    "collapsed": true
   },
   "outputs": [],
   "source": [
    "marks=[]\n"
   ]
  },
  {
   "cell_type": "code",
   "execution_count": 2,
   "metadata": {},
   "outputs": [
    {
     "data": {
      "text/plain": [
       "[]"
      ]
     },
     "execution_count": 2,
     "metadata": {},
     "output_type": "execute_result"
    }
   ],
   "source": [
    "marks\n"
   ]
  },
  {
   "cell_type": "code",
   "execution_count": 3,
   "metadata": {},
   "outputs": [
    {
     "ename": "IndexError",
     "evalue": "list assignment index out of range",
     "output_type": "error",
     "traceback": [
      "\u001b[1;31m---------------------------------------------------------------------------\u001b[0m",
      "\u001b[1;31mIndexError\u001b[0m                                Traceback (most recent call last)",
      "\u001b[1;32m<ipython-input-3-b700d7e899f4>\u001b[0m in \u001b[0;36m<module>\u001b[1;34m()\u001b[0m\n\u001b[0;32m      1\u001b[0m \u001b[1;32mfor\u001b[0m \u001b[0mi\u001b[0m \u001b[1;32min\u001b[0m \u001b[0mrange\u001b[0m\u001b[1;33m(\u001b[0m\u001b[1;36m4\u001b[0m\u001b[1;33m)\u001b[0m\u001b[1;33m:\u001b[0m\u001b[1;33m\u001b[0m\u001b[0m\n\u001b[1;32m----> 2\u001b[1;33m     \u001b[0mmarks\u001b[0m\u001b[1;33m[\u001b[0m\u001b[0mi\u001b[0m\u001b[1;33m]\u001b[0m\u001b[1;33m=\u001b[0m\u001b[1;34m'ra'\u001b[0m\u001b[1;33m\u001b[0m\u001b[0m\n\u001b[0m\u001b[0;32m      3\u001b[0m     \u001b[0mi\u001b[0m\u001b[1;33m+=\u001b[0m\u001b[1;36m1\u001b[0m\u001b[1;33m\u001b[0m\u001b[0m\n\u001b[0;32m      4\u001b[0m \u001b[1;33m\u001b[0m\u001b[0m\n",
      "\u001b[1;31mIndexError\u001b[0m: list assignment index out of range"
     ]
    }
   ],
   "source": [
    "for i in range(4):\n",
    "    marks[i]='ra'\n",
    "    i+=1\n",
    "    "
   ]
  },
  {
   "cell_type": "code",
   "execution_count": null,
   "metadata": {
    "collapsed": true
   },
   "outputs": [],
   "source": [
    "n = int(input(\"Enter n: \"))"
   ]
  },
  {
   "cell_type": "code",
   "execution_count": null,
   "metadata": {
    "collapsed": true
   },
   "outputs": [],
   "source": [
    "#While loop\n",
    "numbers = [6,5,3,8,4,5,6,7]\n",
    "i=1\n",
    "sum = 0\n",
    "while i<=len(numbers):\n",
    "    sum = sum+i\n",
    "    i+=1\n",
    "    print('The sum is:',sum)"
   ]
  },
  {
   "cell_type": "code",
   "execution_count": null,
   "metadata": {
    "collapsed": true
   },
   "outputs": [],
   "source": [
    "sum+=20"
   ]
  },
  {
   "cell_type": "code",
   "execution_count": null,
   "metadata": {
    "collapsed": true
   },
   "outputs": [],
   "source": [
    "sum"
   ]
  },
  {
   "cell_type": "code",
   "execution_count": 4,
   "metadata": {},
   "outputs": [
    {
     "name": "stdout",
     "output_type": "stream",
     "text": [
      "Inside loop\n",
      "Inside loop\n",
      "Inside loop\n",
      "Inside else\n"
     ]
    }
   ],
   "source": [
    "#While loop with else\n",
    "counter = 0\n",
    "while counter<3:\n",
    "    print('Inside loop')\n",
    "    counter+=1\n",
    "else:\n",
    "    print('Inside else')"
   ]
  },
  {
   "cell_type": "code",
   "execution_count": null,
   "metadata": {
    "collapsed": true
   },
   "outputs": [],
   "source": [
    "#Use of break statement inside loop\n",
    "for val in 'String':\n",
    "    if val =='i':\n",
    "        break\n",
    "    print(val)\n",
    "print('The end')"
   ]
  },
  {
   "cell_type": "code",
   "execution_count": null,
   "metadata": {
    "collapsed": true
   },
   "outputs": [],
   "source": [
    "#program to show the use of contiune statement inside loops\n",
    "for val in 'String':\n",
    "    if val == 'i':\n",
    "        continue\n",
    "    print(val)\n",
    "print('The end')"
   ]
  },
  {
   "cell_type": "code",
   "execution_count": null,
   "metadata": {
    "collapsed": true
   },
   "outputs": [],
   "source": [
    "#An example of infinite loop\n",
    "while True:\n",
    "    num = int(input('Enter an integer number'))\n",
    "    print('The double',num,'is',2*num)\n",
    "    "
   ]
  },
  {
   "cell_type": "code",
   "execution_count": 8,
   "metadata": {},
   "outputs": [
    {
     "name": "stdout",
     "output_type": "stream",
     "text": [
      "Enter n: 3\n",
      "The sum is:  1\n",
      "The sum is:  3\n",
      "The sum is:  6\n"
     ]
    }
   ],
   "source": [
    "#loop with condition at the top\n",
    "n=10\n",
    "n = int(input('Enter n: '))\n",
    "sum = 0\n",
    "i = 1\n",
    "while i<= n:\n",
    "    sum=sum+i\n",
    "    i+=1\n",
    "    print('The sum is: ',sum)"
   ]
  },
  {
   "cell_type": "code",
   "execution_count": 2,
   "metadata": {
    "collapsed": true
   },
   "outputs": [],
   "source": [
    "#some value are print using list\n",
    "a =[]\n",
    "i = 0\n",
    "while i<len(a):\n",
    "    print(a[i])\n",
    "    i+=3"
   ]
  },
  {
   "cell_type": "code",
   "execution_count": 3,
   "metadata": {},
   "outputs": [
    {
     "name": "stdout",
     "output_type": "stream",
     "text": [
      "Enter a vowel: 2\n",
      "That is not a vowel. Try again!\n",
      "Enter a vowel: r\n",
      "That is not a vowel. Try again!\n",
      "Enter a vowel: u\n",
      "Thank You\n"
     ]
    }
   ],
   "source": [
    "#loop with condition in the middle\n",
    "vowels = 'aeiouAEIOU'\n",
    "while True:\n",
    "    v = input('Enter a vowel: ')\n",
    "    if v in vowels:\n",
    "        break\n",
    "    print('That is not a vowel. Try again!')\n",
    "print('Thank You')"
   ]
  },
  {
   "cell_type": "code",
   "execution_count": null,
   "metadata": {},
   "outputs": [
    {
     "name": "stdout",
     "output_type": "stream",
     "text": [
      "Press enter to roll the dice4\n",
      "You got 4\n"
     ]
    }
   ],
   "source": [
    "#loop with condition at the bottom\n",
    "import random\n",
    "\n",
    "while True:\n",
    "    input('Press enter to roll the dice')\n",
    "    num=random.randint(1,6)\n",
    "    print('You got', num)\n",
    "    option = input('Roll again?(Y?N)')\n",
    "    if option =='n':\n",
    "        break"
   ]
  },
  {
   "cell_type": "code",
   "execution_count": null,
   "metadata": {
    "collapsed": true
   },
   "outputs": [],
   "source": [
    "import random\n",
    "num=random.randint(1,5)\n",
    "print(num)"
   ]
  },
  {
   "cell_type": "code",
   "execution_count": null,
   "metadata": {
    "collapsed": true
   },
   "outputs": [],
   "source": [
    "numr"
   ]
  },
  {
   "cell_type": "code",
   "execution_count": null,
   "metadata": {
    "collapsed": true
   },
   "outputs": [],
   "source": []
  }
 ],
 "metadata": {
  "kernelspec": {
   "display_name": "Python 3",
   "language": "python",
   "name": "python3"
  },
  "language_info": {
   "codemirror_mode": {
    "name": "ipython",
    "version": 3
   },
   "file_extension": ".py",
   "mimetype": "text/x-python",
   "name": "python",
   "nbconvert_exporter": "python",
   "pygments_lexer": "ipython3",
   "version": "3.6.3"
  }
 },
 "nbformat": 4,
 "nbformat_minor": 2
}
