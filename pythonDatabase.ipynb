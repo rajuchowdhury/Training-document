{
 "cells": [
  {
   "cell_type": "code",
   "execution_count": 18,
   "metadata": {},
   "outputs": [
    {
     "name": "stdout",
     "output_type": "stream",
     "text": [
      "(1, 'RAJU', '01865052786')\n",
      "(2, 'YASMIN', '01675519116')\n",
      "(1, 'RAJU', '01865052786')\n",
      "(2, 'YASMIN', '01675519116')\n",
      "(1, 'RAJU', '01865052786')\n",
      "(2, 'YASMIN', '01675519116')\n",
      "(1, 'RAJU', '01865052786')\n",
      "(2, 'YASMIN', '01675519116')\n"
     ]
    }
   ],
   "source": [
    "import sqlite3\n",
    "conn = sqlite3.connect('tutorial.csv')\n",
    "c = conn.cursor()\n",
    "\n",
    "def create_table():\n",
    "    c.execute('CREATE TABLE IF NOT EXISTS TEST(ID INT,NAME TEXT,PHONE TEXT)')\n",
    "    \n",
    "def data_entry():\n",
    "    c.execute(\"INSERT INTO TEST VALUES(01,'RAJU','01865052786')\")\n",
    "    c.execute(\"INSERT INTO TEST VALUES(02,'YASMIN','01675519116')\")\n",
    "    conn.commit()\n",
    "def read_from_db():\n",
    "    c.execute('SELECT * FROM TEST')\n",
    "    for row in c.fetchall():\n",
    "        print(row)\n",
    "\n",
    "create_table()\n",
    "data_entry()\n",
    "read_from_db()\n",
    "\n",
    "\n",
    "c.close()\n",
    "conn.close()"
   ]
  },
  {
   "cell_type": "code",
   "execution_count": 17,
   "metadata": {},
   "outputs": [
    {
     "name": "stdout",
     "output_type": "stream",
     "text": [
      "(1, 'RAJU', '01865052786')\n",
      "(1, 'RAJU', '01865052786')\n",
      "(1, 'RAJU', '01865052786')\n"
     ]
    }
   ],
   "source": [
    "import sqlite3\n",
    "\n",
    "conn = sqlite3.connect('tutorial.csv')\n",
    "c=conn.cursor()\n",
    "\n",
    "def searchData():\n",
    "    c.execute(\"SELECT * FROM TEST WHERE NAME='RAJU'\")\n",
    "    for row in c.fetchall():\n",
    "        print(row)\n",
    "searchData()\n",
    "c.close()\n",
    "conn.close()"
   ]
  },
  {
   "cell_type": "code",
   "execution_count": 20,
   "metadata": {},
   "outputs": [
    {
     "name": "stdout",
     "output_type": "stream",
     "text": [
      "(1, 'RAJU', '01865052786')\n",
      "(2, 'YASMIN', '01675519116')\n",
      "(1, 'RAJU', '01865052786')\n",
      "(2, 'YASMIN', '01675519116')\n",
      "(1, 'RAJU', '01865052786')\n",
      "(2, 'YASMIN', '01675519116')\n",
      "(1, 'RAJU', '01865052786')\n",
      "(2, 'YASMIN', '01675519116')\n",
      "(1, 'RAJU', '01865052786')\n",
      "(2, 'YASMIN', '01675519116')\n",
      "(1, 'RAJU', '01865052786')\n",
      "(2, 'YASMIN', '01675519116')\n",
      "(1, 'RAJU', '01865052786')\n",
      "(2, 'YASMIN', '01675519116')\n",
      "(1, 'RAJU', '01865052786')\n",
      "(2, 'YASMIN', '01675519116')\n"
     ]
    }
   ],
   "source": [
    "import sqlite3\n",
    "conn=sqlite3.connect('tutorial.csv')\n",
    "c=conn.cursor()\n",
    "\n",
    "def read_from_db():\n",
    "    c.execute(\"SELECT * FROM TEST\")\n",
    "    for row in c.fetchall():\n",
    "        print(row)\n",
    "\n",
    "def updateData():\n",
    "    c.execute(\"UPDATE TEST SET NAME = 'BASIS' WHERE NAME = 'Leads'\")\n",
    "    conn.commit()\n",
    "\n",
    "read_from_db()\n",
    "updateData()\n",
    "read_from_db()\n",
    "\n",
    "c.close()\n",
    "conn.close()"
   ]
  },
  {
   "cell_type": "code",
   "execution_count": 21,
   "metadata": {},
   "outputs": [
    {
     "name": "stdout",
     "output_type": "stream",
     "text": [
      "(1, 'RAJU', '01865052786')\n",
      "(2, 'YASMIN', '01675519116')\n",
      "(1, 'RAJU', '01865052786')\n",
      "(2, 'YASMIN', '01675519116')\n",
      "(1, 'RAJU', '01865052786')\n",
      "(2, 'YASMIN', '01675519116')\n",
      "(1, 'RAJU', '01865052786')\n",
      "(2, 'YASMIN', '01675519116')\n",
      "(1, 'RAJU', '01865052786')\n",
      "(2, 'YASMIN', '01675519116')\n",
      "(1, 'RAJU', '01865052786')\n",
      "(2, 'YASMIN', '01675519116')\n",
      "(1, 'RAJU', '01865052786')\n",
      "(2, 'YASMIN', '01675519116')\n",
      "(1, 'RAJU', '01865052786')\n",
      "(2, 'YASMIN', '01675519116')\n"
     ]
    }
   ],
   "source": [
    "import sqlite3\n",
    "conn=sqlite3.connect('tutorial.csv')\n",
    "c=conn.cursor()\n",
    "def read_from_db():\n",
    "    c.execute(\"SELECT * FROM TEST\")\n",
    "    for row in c.fetchall():\n",
    "        print(row)\n",
    "\n",
    "def deleteData():\n",
    "    c.execute(\"DELETE FROM TEST WHERE NAME = 'BASIS'\")\n",
    "    conn.commit()\n",
    "\n",
    "read_from_db()\n",
    "deleteData()\n",
    "read_from_db()\n",
    "c.close()\n",
    "conn.close()"
   ]
  },
  {
   "cell_type": "code",
   "execution_count": 23,
   "metadata": {},
   "outputs": [
    {
     "ename": "SyntaxError",
     "evalue": "invalid syntax (<ipython-input-23-4da22daa25dd>, line 24)",
     "output_type": "error",
     "traceback": [
      "\u001b[1;36m  File \u001b[1;32m\"<ipython-input-23-4da22daa25dd>\"\u001b[1;36m, line \u001b[1;32m24\u001b[0m\n\u001b[1;33m    except lite.Error, e:\u001b[0m\n\u001b[1;37m                     ^\u001b[0m\n\u001b[1;31mSyntaxError\u001b[0m\u001b[1;31m:\u001b[0m invalid syntax\n"
     ]
    }
   ],
   "source": [
    "import sqlite3 as lite\n",
    "import sys\n",
    "\n",
    "try:\n",
    "    con = lite.connect('test.db')\n",
    "\n",
    "    cur = con.cursor()  \n",
    "\n",
    "    cur.executescript(\"\"\"\n",
    "        DROP TABLE IF EXISTS Cars;\n",
    "        CREATE TABLE Cars(Id INT, Name TEXT, Price INT);\n",
    "        INSERT INTO Cars VALUES(1,'Audi',52642);\n",
    "        INSERT INTO Cars VALUES(2,'Mercedes',57127);\n",
    "        INSERT INTO Cars VALUES(3,'Skoda',9000);\n",
    "        INSERT INTO Cars VALUES(4,'Volvo',29000);\n",
    "        INSERT INTO Cars VALUES(5,'Bentley',350000);\n",
    "        INSERT INTO Cars VALUES(6,'Citroen',21000);\n",
    "        INSERT INTO Cars VALUES(7,'Hummer',41400);\n",
    "        INSERT INTO Cars VALUES(8,'Volkswagen',21600);\n",
    "        \"\"\")\n",
    "\n",
    "    con.commit()\n",
    "    \n",
    "except lite.Error, e:\n",
    "    \n",
    "    if con:\n",
    "        con.rollback()\n",
    "        \n",
    "    print \"Error %s:\" % e.args[0]\n",
    "    sys.exit(1)\n",
    "    \n",
    "finally:\n",
    "    \n",
    "    if con:\n",
    "        con.close() "
   ]
  },
  {
   "cell_type": "code",
   "execution_count": null,
   "metadata": {
    "collapsed": true
   },
   "outputs": [],
   "source": []
  }
 ],
 "metadata": {
  "kernelspec": {
   "display_name": "Python 3",
   "language": "python",
   "name": "python3"
  },
  "language_info": {
   "codemirror_mode": {
    "name": "ipython",
    "version": 3
   },
   "file_extension": ".py",
   "mimetype": "text/x-python",
   "name": "python",
   "nbconvert_exporter": "python",
   "pygments_lexer": "ipython3",
   "version": "3.6.3"
  }
 },
 "nbformat": 4,
 "nbformat_minor": 2
}
