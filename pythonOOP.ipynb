{
 "cells": [
  {
   "cell_type": "code",
   "execution_count": 10,
   "metadata": {
    "collapsed": true
   },
   "outputs": [],
   "source": [
    "class Person:\n",
    "    \n",
    "    def setName(self,x):\n",
    "        self.name=x\n",
    "    def setAge(self,x):\n",
    "        self.age=x\n",
    "    def talk(self):\n",
    "        print('Hi! My name is',self.name,'and I am',self.age,'years old.')\n",
    "        "
   ]
  },
  {
   "cell_type": "code",
   "execution_count": 11,
   "metadata": {},
   "outputs": [
    {
     "name": "stdout",
     "output_type": "stream",
     "text": [
      "Hi! My name is Raju and I am 22 years old.\n"
     ]
    }
   ],
   "source": [
    "myObject=Person()\n",
    "myObject.setName('Raju')\n",
    "myObject.setAge(22)\n",
    "myObject.talk()"
   ]
  },
  {
   "cell_type": "code",
   "execution_count": 21,
   "metadata": {},
   "outputs": [
    {
     "name": "stdout",
     "output_type": "stream",
     "text": [
      "joy\n",
      "childClass method2\n"
     ]
    }
   ],
   "source": [
    "'''Inheritance'''\n",
    "\n",
    "class myClass():\n",
    "    def method1(self):\n",
    "        print('joy')\n",
    "    def method2(self,someString):\n",
    "            print('Software Testing:'+someString)\n",
    "class childClass(myClass):\n",
    "    def method3(self):\n",
    "        print('childClass method2')\n",
    "def main():\n",
    "    c2=childClass()\n",
    "    c2.method1()\n",
    "    c2.method3()\n",
    "    \n",
    "if __name__==\"__main__\":\n",
    "    main()"
   ]
  },
  {
   "cell_type": "code",
   "execution_count": 27,
   "metadata": {},
   "outputs": [
    {
     "name": "stdout",
     "output_type": "stream",
     "text": [
      "Show PDF document: Python tutorial 33\n",
      "Show Word document: Java IO tutorial\n",
      "Show PDF document: Python Date & Time Tutorial 45\n"
     ]
    }
   ],
   "source": [
    "'''Abstraction'''\n",
    "\n",
    "class AbstractDocument:\n",
    "    def __init__(self,name,age):\n",
    "        self.name=name\n",
    "        self.age=age\n",
    "    def show(self):\n",
    "        raise NotImplementedError('Subclass must implement abstract method')\n",
    "class PDF(AbstractDocument):\n",
    "    def show(self):\n",
    "        print('Show PDF document:',self.name,self.age)\n",
    "class Word(AbstractDocument):\n",
    "    def show(self):\n",
    "        print('Show Word document:',self.name)\n",
    "documents = [PDF('Python tutorial',33),\n",
    "            Word('Java IO tutorial',32),\n",
    "            PDF('Python Date & Time Tutorial',45)]\n",
    "for doc in documents:\n",
    "    doc.show()\n",
    "\n",
    "    "
   ]
  },
  {
   "cell_type": "code",
   "execution_count": 29,
   "metadata": {},
   "outputs": [
    {
     "name": "stdout",
     "output_type": "stream",
     "text": [
      "Max height 200\n",
      "Mule run\n",
      "Name:(House's mehtod): Mule\n",
      "--Call Mule.showInfo:--\n",
      "Horse info\n",
      "Donkey Info\n"
     ]
    }
   ],
   "source": [
    "\"\"\"Multiple Inheritance\"\"\"\n",
    "class Horse:\n",
    "    maxHeight=200\n",
    "    def __init__(self,name,horsehair):\n",
    "        self.name=name\n",
    "        self.horsehair=horsehair\n",
    "    def run(self):\n",
    "        print('Horse run')\n",
    "    def showName(self):\n",
    "        print(\"Name:(House's mehtod):\",self.name)\n",
    "    def showInfo(self):\n",
    "        print('Horse info')\n",
    "class Donkey:\n",
    "    def __init__(self,name,weight):\n",
    "        self.name=name\n",
    "        self.weight=weight\n",
    "    def run(self):\n",
    "        print('Donkey run')\n",
    "    def showName(self):\n",
    "        print(\"Name: (Donkey's Method):\",self.name)\n",
    "    def showInfo(self):\n",
    "        print('Donkey Info')\n",
    "class Mule(Horse, Donkey):\n",
    "    def __init__(self,name,hair,weight):\n",
    "        Horse.__init__(self,name,hair)\n",
    "        Donkey.__init__(self,name,weight)\n",
    "    def run(self):\n",
    "        print('Mule run')\n",
    "    def showInfo(self):\n",
    "        print(\"--Call Mule.showInfo:--\")\n",
    "        Horse.showInfo(self)\n",
    "        Donkey.showInfo(self)\n",
    "print('Max height',Mule.maxHeight)\n",
    "\n",
    "mule=Mule('Mule',20,1000)\n",
    "mule.run()\n",
    "mule.showName()\n",
    "mule.showInfo()"
   ]
  },
  {
   "cell_type": "code",
   "execution_count": 30,
   "metadata": {},
   "outputs": [
    {
     "ename": "OperationalError",
     "evalue": "no such table: DB",
     "output_type": "error",
     "traceback": [
      "\u001b[1;31m---------------------------------------------------------------------------\u001b[0m",
      "\u001b[1;31mOperationalError\u001b[0m                          Traceback (most recent call last)",
      "\u001b[1;32m<ipython-input-30-ce330adffb8d>\u001b[0m in \u001b[0;36m<module>\u001b[1;34m()\u001b[0m\n\u001b[0;32m      8\u001b[0m     \u001b[1;32mfor\u001b[0m \u001b[0mrow\u001b[0m \u001b[1;32min\u001b[0m \u001b[0mc\u001b[0m\u001b[1;33m.\u001b[0m\u001b[0mfetchall\u001b[0m\u001b[1;33m(\u001b[0m\u001b[1;33m)\u001b[0m\u001b[1;33m:\u001b[0m\u001b[1;33m\u001b[0m\u001b[0m\n\u001b[0;32m      9\u001b[0m         \u001b[0mprint\u001b[0m\u001b[1;33m(\u001b[0m\u001b[0mrow\u001b[0m\u001b[1;33m)\u001b[0m\u001b[1;33m\u001b[0m\u001b[0m\n\u001b[1;32m---> 10\u001b[1;33m \u001b[0msearchData\u001b[0m\u001b[1;33m(\u001b[0m\u001b[1;33m)\u001b[0m\u001b[1;33m\u001b[0m\u001b[0m\n\u001b[0m\u001b[0;32m     11\u001b[0m \u001b[0mc\u001b[0m\u001b[1;33m.\u001b[0m\u001b[0mclose\u001b[0m\u001b[1;33m(\u001b[0m\u001b[1;33m)\u001b[0m\u001b[1;33m\u001b[0m\u001b[0m\n\u001b[0;32m     12\u001b[0m \u001b[0mconn\u001b[0m\u001b[1;33m.\u001b[0m\u001b[0mclose\u001b[0m\u001b[1;33m(\u001b[0m\u001b[1;33m)\u001b[0m\u001b[1;33m\u001b[0m\u001b[0m\n",
      "\u001b[1;32m<ipython-input-30-ce330adffb8d>\u001b[0m in \u001b[0;36msearchData\u001b[1;34m()\u001b[0m\n\u001b[0;32m      5\u001b[0m \u001b[1;33m\u001b[0m\u001b[0m\n\u001b[0;32m      6\u001b[0m \u001b[1;32mdef\u001b[0m \u001b[0msearchData\u001b[0m\u001b[1;33m(\u001b[0m\u001b[1;33m)\u001b[0m\u001b[1;33m:\u001b[0m\u001b[1;33m\u001b[0m\u001b[0m\n\u001b[1;32m----> 7\u001b[1;33m     \u001b[0mc\u001b[0m\u001b[1;33m.\u001b[0m\u001b[0mexecute\u001b[0m\u001b[1;33m(\u001b[0m\u001b[1;34m\"SELECT * FROM DB WHERE NAME='LEADS'\"\u001b[0m\u001b[1;33m)\u001b[0m\u001b[1;33m\u001b[0m\u001b[0m\n\u001b[0m\u001b[0;32m      8\u001b[0m     \u001b[1;32mfor\u001b[0m \u001b[0mrow\u001b[0m \u001b[1;32min\u001b[0m \u001b[0mc\u001b[0m\u001b[1;33m.\u001b[0m\u001b[0mfetchall\u001b[0m\u001b[1;33m(\u001b[0m\u001b[1;33m)\u001b[0m\u001b[1;33m:\u001b[0m\u001b[1;33m\u001b[0m\u001b[0m\n\u001b[0;32m      9\u001b[0m         \u001b[0mprint\u001b[0m\u001b[1;33m(\u001b[0m\u001b[0mrow\u001b[0m\u001b[1;33m)\u001b[0m\u001b[1;33m\u001b[0m\u001b[0m\n",
      "\u001b[1;31mOperationalError\u001b[0m: no such table: DB"
     ]
    }
   ],
   "source": [
    "import sqlite3\n",
    "\n",
    "conn = sqlite3.connect('hey.db')\n",
    "c=conn.cursor()\n",
    "\n",
    "def searchData():\n",
    "    c.execute(\"SELECT * FROM DB WHERE NAME='LEADS'\")\n",
    "    for row in c.fetchall():\n",
    "        print(row)\n",
    "searchData()\n",
    "c.close()\n",
    "conn.close()"
   ]
  },
  {
   "cell_type": "code",
   "execution_count": null,
   "metadata": {
    "collapsed": true
   },
   "outputs": [],
   "source": []
  }
 ],
 "metadata": {
  "kernelspec": {
   "display_name": "Python 3",
   "language": "python",
   "name": "python3"
  },
  "language_info": {
   "codemirror_mode": {
    "name": "ipython",
    "version": 3
   },
   "file_extension": ".py",
   "mimetype": "text/x-python",
   "name": "python",
   "nbconvert_exporter": "python",
   "pygments_lexer": "ipython3",
   "version": "3.6.3"
  }
 },
 "nbformat": 4,
 "nbformat_minor": 2
}
